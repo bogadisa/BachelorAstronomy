{
 "cells": [
  {
   "cell_type": "markdown",
   "id": "288a9c14",
   "metadata": {},
   "source": [
    "The function will be defined for . Our first step will be to perform an OLS regression analysis of this function, trying out a polynomial fit with an  and  dependence of the form \n",
    ". We will also include bootstrap first as a resampling technique. After that we will include the cross-validation technique. As discussed in the lectures for weeks 35 and 36,, we can use a uniform distribution to set up the arrays of values for  and , or as in the example below just a set of fixed values for  and  with a given step size. We will fit a function (for example a polynomial) of  and . Thereafter we will repeat much of the same procedure using the Ridge and Lasso regression methods, introducing thus a dependence on the bias (penalty) .\n",
    "\n",
    "Finally we are going to use (real) digital terrain data and try to reproduce these data using the same methods. We will also try to go beyond the second-order polynomials metioned above and explore which polynomial fits the data best.\n",
    "\n",
    "The Python code for the Franke function is included here (it performs also a three-dimensional plot of it)\n",
    "\n"
   ]
  },
  {
   "cell_type": "code",
   "execution_count": null,
   "id": "5504da3d",
   "metadata": {},
   "outputs": [],
   "source": [
    "%matplotlib inline\n",
    "\n",
    "from mpl_toolkits.mplot3d import Axes3D\n",
    "import matplotlib.pyplot as plt\n",
    "from matplotlib import cm\n",
    "from matplotlib.ticker import LinearLocator, FormatStrFormatter\n",
    "import numpy as np\n",
    "from random import random, seed\n",
    "\n",
    "fig = plt.figure()\n",
    "ax = fig.gca(projection='3d')\n",
    "\n",
    "\n",
    "x = np.arange(0, 1, 0.05)\n",
    "y = np.arange(0, 1, 0.05)\n",
    "x, y = np.meshgrid(x,y)\n",
    "\n",
    "\n",
    "def FrankeFunction(x,y):\n",
    "    term1 = 0.75*np.exp(-(0.25*(9*x-2)**2) - 0.25*((9*y-2)**2))\n",
    "    term2 = 0.75*np.exp(-((9*x+1)**2)/49.0 - 0.1*(9*y+1))\n",
    "    term3 = 0.5*np.exp(-(9*x-7)**2/4.0 - 0.25*((9*y-3)**2))\n",
    "    term4 = -0.2*np.exp(-(9*x-4)**2 - (9*y-7)**2)\n",
    "    return term1 + term2 + term3 + term4 \n",
    "\n",
    "\n",
    "z = FrankeFunction(x, y)\n",
    "\n",
    "#print('z\\n',z, 'z end')\n",
    "\n",
    "surf = ax.plot_surface(x, y, z, cmap=cm.coolwarm,\n",
    "                       linewidth=0, antialiased=False)\n",
    "\n",
    "ax.set_zlim(-0.10, 1.40)\n",
    "ax.zaxis.set_major_locator(LinearLocator(10))\n",
    "ax.zaxis.set_major_formatter(FormatStrFormatter('%.02f'))\n",
    "\n",
    "\n",
    "fig.colorbar(surf, shrink=0.5, aspect=5)\n",
    "\n",
    "\n",
    "plt.show()\n",
    "print(z)"
   ]
  },
  {
   "cell_type": "code",
   "execution_count": null,
   "id": "c4706d21",
   "metadata": {
    "scrolled": true
   },
   "outputs": [],
   "source": [
    "import numpy as np \n",
    "import matplotlib.pyplot as plt \n",
    "from sklearn.linear_model import LinearRegression \n",
    "from sklearn.model_selection import train_test_split\n",
    "from sklearn.metrics import mean_squared_error, r2_score, mean_squared_log_error, mean_absolute_error\n",
    "\n",
    "n = 100\n",
    "a = 10\n",
    "\n",
    "b = 2\n",
    "noise = 0.5\n",
    "\n",
    "x = np.random.rand(n,1)\n",
    "y = b+ a*x+ noise*np.random.randn(n,1)\n"
   ]
  },
  {
   "cell_type": "code",
   "execution_count": null,
   "id": "4c3f46cf",
   "metadata": {},
   "outputs": [],
   "source": [
    "X_train, X_test, y_train, y_test = train_test_split(x, y, test_size=0.33, random_state=42)\n",
    "print(\"length of the total data is \", len(x))\n",
    "print(\"length of the train data is \", len(X_train))\n",
    "print(\"length of the test data is is \", len(X_test))\n",
    "\n",
    "lin = LinearRegression()\n",
    "lin.fit(X_train, y_train)\n",
    "\n",
    "y_pred = lin.predict(X_test)\n",
    "\n",
    "plt.scatter(x, y)\n",
    "plt.plot(X_test, y_pred, \"r-\")\n",
    "plt.xlabel(f'x')\n",
    "plt.ylabel(f'y')\n",
    "\n",
    "\n",
    "print('Intercept_pred: \\n', linreg.intercept_)\n",
    "print('Coeff_pred: \\n', linreg.coef_)\n",
    "# Mean squared error                               \n",
    "print(\"Mean squared error: %.2f\" % mean_squared_error(y, ypredict))\n",
    "# Explained variance score: 1 is perfect prediction                                 \n",
    "print('Variance score: %.2f' % r2_score(y, ypredict))\n",
    "# Mean squared log error                                                        \n",
    "print('Mean squared log error: %.2f' % mean_squared_log_error(y, ypredict) )\n",
    "# Mean absolute error                                                           \n",
    "print('Mean absolute error: %.2f' % mean_absolute_error(y, ypredict))\n",
    "\n"
   ]
  },
  {
   "cell_type": "code",
   "execution_count": null,
   "id": "59901185",
   "metadata": {},
   "outputs": [],
   "source": [
    "import statsmodels.api as st\n",
    "print(len(X1), len(y_train))\n",
    "X1 = st.add_constant(x_train)\n",
    "lin_model = st.OLS(y_train, X1)\n",
    "result = lin_model.fit()\n",
    "\n",
    "print(result.summary2())"
   ]
  },
  {
   "cell_type": "code",
   "execution_count": 39,
   "id": "32423dd9",
   "metadata": {},
   "outputs": [
    {
     "data": {
      "text/plain": [
       "<statsmodels.regression.linear_model.OLS at 0x7fe0e1947310>"
      ]
     },
     "execution_count": 39,
     "metadata": {},
     "output_type": "execute_result"
    }
   ],
   "source": []
  },
  {
   "cell_type": "code",
   "execution_count": null,
   "id": "f487355d",
   "metadata": {},
   "outputs": [],
   "source": []
  }
 ],
 "metadata": {
  "kernelspec": {
   "display_name": "Python 3 (ipykernel)",
   "language": "python",
   "name": "python3"
  },
  "language_info": {
   "codemirror_mode": {
    "name": "ipython",
    "version": 3
   },
   "file_extension": ".py",
   "mimetype": "text/x-python",
   "name": "python",
   "nbconvert_exporter": "python",
   "pygments_lexer": "ipython3",
   "version": "3.9.12"
  }
 },
 "nbformat": 4,
 "nbformat_minor": 5
}
