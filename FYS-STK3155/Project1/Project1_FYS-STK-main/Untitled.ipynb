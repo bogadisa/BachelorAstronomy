{
 "cells": [
  {
   "cell_type": "code",
   "execution_count": 1,
   "id": "db5f4a46",
   "metadata": {},
   "outputs": [],
   "source": [
    "import matplotlib.pyplot as plt\n",
    "import numpy as np\n",
    "import pandas as pd\n",
    "from sklearn.linear_model import LinearRegression\n",
    "from sklearn.preprocessing import PolynomialFeatures\n",
    "from sklearn.model_selection import train_test_split\n",
    "from sklearn import preprocessing\n",
    "import random"
   ]
  },
  {
   "cell_type": "code",
   "execution_count": 2,
   "id": "2779a1ca",
   "metadata": {},
   "outputs": [],
   "source": [
    "def FrankeFunction(x,y):\n",
    "    term1 = 0.75*np.exp(-(0.25*(9*x-2)**2) - 0.25*((9*y-2)**2))\n",
    "    term2 = 0.75*np.exp(-((9*x+1)**2)/49.0 - 0.1*(9*y+1))\n",
    "    term3 = 0.5*np.exp(-(9*x-7)**2/4.0 - 0.25*((9*y-3)**2))\n",
    "    term4 = -0.2*np.exp(-(9*x-4)**2 - (9*y-7)**2)\n",
    "    return term1 + term2 + term3 + term4 + np.random.normal(0, 0.1, x.shape)"
   ]
  },
  {
   "cell_type": "code",
   "execution_count": 3,
   "id": "c1804890",
   "metadata": {},
   "outputs": [],
   "source": [
    "def R2(y_data, y_model):\n",
    "    return 1 - np.sum((y_data - y_model)**2) / np.sum((y_data - np.mean(y_data)) ** 2)\n",
    "\n",
    "def MSE(y_data,y_model):\n",
    "    n = np.size(y_model)\n",
    "    return np.sum((y_data-y_model)**2)/n"
   ]
  },
  {
   "cell_type": "code",
   "execution_count": 4,
   "id": "282dfe73",
   "metadata": {},
   "outputs": [],
   "source": [
    "def create_X(x, y, n):\n",
    "    if len(x.shape) > 1:\n",
    "        x = np.ravel(x) # flattens the matrices\n",
    "        y = np.ravel(y)\n",
    "\n",
    "    N = len(x) #number of x-variables, datapoints\n",
    "    l = int((n+1)*(n+2)/2)     # Number of elements in beta - parameters, features\n",
    "    X = np.ones((N,l)) #Making a matrix of dimentions given by the number of variables and number of parameters\n",
    "\n",
    "    for i in range(1,n+1):\n",
    "        q = int((i)*(i+1)/2)\n",
    "        for k in range(i+1):\n",
    "            X[:,q+k] = (x**(i-k))*(y**k)\n",
    "\n",
    "    return X"
   ]
  },
  {
   "cell_type": "code",
   "execution_count": 8,
   "id": "3b170c3f",
   "metadata": {},
   "outputs": [],
   "source": [
    "def find_beta(X, z): \n",
    "    XT = X.T\n",
    "    XTXinv = np.linalg.pinv(np.matmul(XT, X))\n",
    "    XTz = np.matmul(XT, z)\n",
    "    beta = np.matmul(XTXinv, XTz)\n",
    "\n",
    "    return beta"
   ]
  },
  {
   "cell_type": "code",
   "execution_count": 9,
   "id": "3b22b61c",
   "metadata": {},
   "outputs": [
    {
     "name": "stdout",
     "output_type": "stream",
     "text": [
      "2000 2000 2000\n"
     ]
    }
   ],
   "source": [
    "size = 2000\n",
    "noise = 0.05 # Level of noise\n",
    "x = np.arange(0, 1, 1/size)\n",
    "y = np.arange(0, 1, 1/size)\n",
    "#x, y = np.meshgrid(x,y)\n",
    "\n",
    "z = FrankeFunction(x, y)\n",
    "z += (np.random.randn(size)*noise) #Added noise\n",
    "print(len(x), len(y), len(z))"
   ]
  },
  {
   "cell_type": "code",
   "execution_count": 10,
   "id": "e2f9c4ef",
   "metadata": {},
   "outputs": [],
   "source": [
    "from sklearn.utils import resample\n",
    "def bootstrap(x, z, x_test, z_test, iterations = 100):\n",
    "    MSEs = np.zeros(iterations) \n",
    "    R2s = np.zeros(iterations) \n",
    "    z_preds= []\n",
    "    for i in range(iterations):\n",
    "        bt_x, bt_z = resample(x, z)\n",
    "        beta = find_beta(bt_x, bt_z) #Finding beta with new x train and z train\n",
    "        z_pred = x_test @ beta #predict z with x_test\n",
    "        z_preds.append(z_pred)\n",
    "        mse = MSE(z_test, z_pred)\n",
    "        r2 = R2(z_test, z_pred) # getting statistics of prediction in current bootstrap\n",
    "        MSEs[i] = mse\n",
    "        R2s[i] = r2\n",
    "    \n",
    "    zpreds = np.mean(z_preds)\n",
    "    bt_err = np.mean( np.mean((z_test - z_preds)**2, axis=1, keepdims=True))\n",
    "    bt_bias = np.mean((z_test - np.mean(z_preds, axis=1, keepdims=True))**2)\n",
    "    bt_var = np.mean( np.var(z_preds) )\n",
    "    boot_MSE = np.mean(MSEs)\n",
    "    boot_R2 = np.mean(R2s)\n",
    "    \n",
    "    return boot_MSE, boot_R2, bt_err, bt_bias, bt_var"
   ]
  },
  {
   "cell_type": "code",
   "execution_count": null,
   "id": "5ab054a1",
   "metadata": {},
   "outputs": [],
   "source": [
    "maxdegree = 20\n",
    "scores_OLS_boot = np.zeros((maxdegree, 2))\n",
    "degrees = np.linspace(1, maxdegree, maxdegree, dtype=int)\n",
    "metrics = {'degree': degrees,'error': [], 'bias': [], 'variance': []}\n",
    "\n",
    "for degree in degrees:\n",
    "    X = create_X(x, y, degree)\n",
    "    X_train, X_test, z_train, z_test = train_test_split(X,z,test_size=1/4)\n",
    "    \n",
    "    boot_n = 50\n",
    "\n",
    "    bt_MSE, bt_R2, error, bias, var = bootstrap(X_train,z_train,X_test, z_test, iterations = boot_n) #bootstrapping the z-values to get a resampled set of the 'observed' data\n",
    "    metrics['error'].append(error)\n",
    "    metrics['bias'].append(bias)\n",
    "    metrics['variance'].append(var)\n",
    "    \n",
    "\n",
    "    scores_OLS_boot[degree-1, 0] = bt_MSE\n",
    "    scores_OLS_boot[degree-1, 1] = bt_R2\n",
    "\n",
    "    \n",
    "estimates = pd.DataFrame(scores_OLS_boot, columns=['MSE', 'R2'])\n",
    "bt_results = pd.concat([pd.DataFrame(metrics), estimates], axis = 1)\n",
    "bt_results = bt_results.set_index('degree')\n",
    "display(bt_results)\n",
    "\n",
    "degree7 = bt_results.loc[7]\n",
    "print('    error              bias                 variance        ')\n",
    "print('{} >= {} + {} = {}'.format(degree7['error'], degree7['bias'], degree7['variance'], degree7['bias']+ degree7['variance']))"
   ]
  },
  {
   "cell_type": "code",
   "execution_count": null,
   "id": "83fd1324",
   "metadata": {},
   "outputs": [],
   "source": []
  }
 ],
 "metadata": {
  "kernelspec": {
   "display_name": "Python 3 (ipykernel)",
   "language": "python",
   "name": "python3"
  },
  "language_info": {
   "codemirror_mode": {
    "name": "ipython",
    "version": 3
   },
   "file_extension": ".py",
   "mimetype": "text/x-python",
   "name": "python",
   "nbconvert_exporter": "python",
   "pygments_lexer": "ipython3",
   "version": "3.9.12"
  }
 },
 "nbformat": 4,
 "nbformat_minor": 5
}
