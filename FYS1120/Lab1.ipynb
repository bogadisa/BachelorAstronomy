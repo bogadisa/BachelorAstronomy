{
 "cells": [
  {
   "cell_type": "markdown",
   "id": "99a3d9b3",
   "metadata": {},
   "source": [
    "# Lab\n",
    "***"
   ]
  },
  {
   "cell_type": "markdown",
   "id": "6b99b3d4",
   "metadata": {},
   "source": [
    "## Før Lab 1\n",
    "\n",
    "### Oppgave 1.1.1\n",
    "Vi starter med y:\n",
    "\\begin{equation}\n",
    "    y=log(U)\n",
    "\\end{equation}\n",
    "Eventuelt kan vi skrive det som\n",
    "\\begin{equation}\n",
    "    y=log(U_0e^{-t/\\tau})\n",
    "\\end{equation}\n",
    "Vi kan forenkle dette videre:\n",
    "\\begin{equation}\n",
    "    y=log(U_0)-t/\\tau log(e)\n",
    "\\end{equation}\n",
    "Vi har at $log(e)=1$. Dermed:\n",
    "\\begin{equation}\n",
    "    y=log(U_0)-t/\\tau\n",
    "\\end{equation}\n",
    "Dersom $y=at+b$, må $b=log(U_0)$ og $a=-1/\\tau$.\n",
    "\n",
    "### Oppgave 1.1.2"
   ]
  },
  {
   "cell_type": "code",
   "execution_count": 35,
   "id": "328c523d",
   "metadata": {},
   "outputs": [],
   "source": [
    "import numpy as np\n",
    "from scipy.stats import linregress\n",
    "import matplotlib.pyplot as plt\n",
    "def estimate_R(U, t, C):\n",
    "    a, b, r, p, se = linregress(t, U)\n",
    "    tau = -1/a\n",
    "    R = tau/C\n",
    "    plt.scatter(t, U, label=\"Recorded values\")\n",
    "    plt.plot(t, a*t + b, c=\"r\", label=\"Linear approx.\")\n",
    "    plt.xlabel(\"t[s]\")\n",
    "    plt.ylabel(\"U[V]\")\n",
    "    plt.legend()\n",
    "    plt.show()\n",
    "    return R"
   ]
  },
  {
   "cell_type": "markdown",
   "id": "7fb586a8",
   "metadata": {},
   "source": [
    "Vi bruker `linregress(U, t)` til å finne $a$, som vi bruker til å finne $\\tau$, som også kan bli uttrykt ved $\\tau=RC$. Løser for $R$, plotter og retunerer $R$.\n",
    "\n",
    "## På lab 1\n",
    "### Oppgave 1.2.1\n",
    "Vi måler at kondensatoren får en spenning på $8.9V$ med en $C=8.2\\mu F$."
   ]
  },
  {
   "cell_type": "code",
   "execution_count": 36,
   "id": "73fd5e51",
   "metadata": {},
   "outputs": [
    {
     "data": {
      "image/png": "[encoded data removed]",
      "text/plain": [
       "<Figure size 432x288 with 1 Axes>"
      ]
     },
     "metadata": {
      "needs_background": "light"
     },
     "output_type": "display_data"
    },
    {
     "name": "stdout",
     "output_type": "stream",
     "text": [
      "Vi fant at resistansen R=6.53623e+06Ohm\n"
     ]
    }
   ],
   "source": [
    "C = 8.2e-6\n",
    "U = np.array([8.9, 7, 5.58, 4.37, 3.42, 2.69, 2.13, 1.67, 1.31,\n",
    "              1.04, 0.804, 0.64, 0.51, 0.40, 0.31, 0.25, 0.199, 0.157, 0.124, 0.09])\n",
    "t = np.linspace(0, 380, len(U))\n",
    "\n",
    "R = estimate_R(U, t, C)\n",
    "print(f\"Vi fant at resistansen {R=:g}Ohm\")"
   ]
  },
  {
   "cell_type": "markdown",
   "id": "df8c4f4c",
   "metadata": {},
   "source": [
    "***\n",
    "## Før lab 2\n",
    "\n",
    "### Oppgave 2.1.1\n"
   ]
  },
  {
   "cell_type": "code",
   "execution_count": 37,
   "id": "825e8920",
   "metadata": {},
   "outputs": [],
   "source": [
    "def estimate_R_A(I, U):\n",
    "    a, b, r, p, se = linregress(I, U)\n",
    "    plt.scatter(I, U)\n",
    "    plt.plot(I, b + a*I, c=\"r\")\n",
    "    plt.xlabel(\"I[A]\")\n",
    "    plt.ylabel(\"U[V]\")\n",
    "    plt.show()\n",
    "    return a"
   ]
  },
  {
   "cell_type": "markdown",
   "id": "6d45cb4a",
   "metadata": {},
   "source": [
    "Gjør omtrent det samme som i oppgave 1.1.2, men her er $a=R_A$, og trenger derfor, ingen flere utregninger.\n",
    "## På lab 2"
   ]
  },
  {
   "cell_type": "code",
   "execution_count": 38,
   "id": "8e4ca842",
   "metadata": {},
   "outputs": [
    {
     "data": {
      "image/png": "[encoded data removed]",
      "text/plain": [
       "<Figure size 432x288 with 1 Axes>"
      ]
     },
     "metadata": {
      "needs_background": "light"
     },
     "output_type": "display_data"
    },
    {
     "name": "stdout",
     "output_type": "stream",
     "text": [
      "Indre resistansen på voltmetere er 11.4831omh\n"
     ]
    }
   ],
   "source": [
    "I = np.array([17.392, 12.529, 8.7697, 7.3353, 5.89])*1e-3\n",
    "U = np.array([200, 144.6, 101.22, 84.645, 67.964])*1e-3\n",
    "\n",
    "slope = estimate_R_A(I, U)\n",
    "print(f\"Indre resistansen på voltmetere er {slope:g}omh\")"
   ]
  },
  {
   "cell_type": "markdown",
   "id": "6497f4ce",
   "metadata": {},
   "source": [
    "***\n",
    "## Før lab 3\n",
    "### Oppgave 3.1.1\n",
    "Vi har $U=\\epsilon - rI$. \n",
    "\n",
    "### Oppgave 3.1.2"
   ]
  },
  {
   "cell_type": "code",
   "execution_count": 41,
   "id": "b448d84b",
   "metadata": {},
   "outputs": [],
   "source": [
    "def peltier_element(U, R):\n",
    "    I = U/R\n",
    "    a, b, r, p, se = linregress(I, U)\n",
    "    epsilon = b\n",
    "    r = -a\n",
    "    plt.plot(I, b + a*I)\n",
    "    plt.scatter(I, U, c=\"r\")\n",
    "    plt.xlabel(\"I[A]\")\n",
    "    plt.ylabel(\"U[V]\")\n",
    "    plt.show()\n",
    "    return r, epsilon"
   ]
  },
  {
   "cell_type": "markdown",
   "id": "20a4df8a",
   "metadata": {},
   "source": [
    "Fra oppgave 3.1.1 ser vi at vi kan skrive $U$ på formen $U=aI+b$. Altså potensialet er proposjonal med strømmen pluss en konstant. $\\epsilon$ og $r$ er begge variabler, da må de tilsvare $b$ og $a$ henholdsvis.\n",
    "\n",
    "## På lab 3\n",
    "\n",
    "### Oppgave 3.2.1\n",
    "1. Spenning er ca. $0.08mV$.\n",
    "2. Vi legger den i håndflaten og måler $11mv$. Altså øker spenningen\n",
    "3. Mellom to hender går spenningen ned igjen.\n",
    "4. Ja, elementet blir kaldt nå.\n",
    "5. Vi har at i et Peltier-elementet blir spenningen mindre desto mer strøm det går igjennom. Mer spenning betyr høyere temperatur. Når vi har det mellom to hender er det lite strøm fordi temperaturforskjellen er liten.\n",
    "\n",
    "\n",
    "### Oppgave 3.2.2"
   ]
  },
  {
   "cell_type": "code",
   "execution_count": 42,
   "id": "bbd1ce39",
   "metadata": {},
   "outputs": [
    {
     "data": {
      "image/png": "[encoded data removed]",
      "text/plain": [
       "<Figure size 432x288 with 1 Axes>"
      ]
     },
     "metadata": {
      "needs_background": "light"
     },
     "output_type": "display_data"
    }
   ],
   "source": [
    "U = np.array([7.13, 9.9, 15.5, 22.3, 41.4])*1e-3\n",
    "R = np.array([1, 1.5, 2.5, 4, 10])\n",
    "\n",
    "r, epsilon = peltier_element(U, R)"
   ]
  },
  {
   "cell_type": "markdown",
   "id": "fbb8e36d",
   "metadata": {},
   "source": [
    "***\n",
    "## På lab 4\n",
    "### Oppgave 4.2.1\n",
    "\n",
    "4. Ohms lov: $U=IR$.\n",
    "<br>\n",
    "Kobber, 4-punkt:<br>\n",
    "$U=0.064mV$, $I=2A$, gir $R=0.032m\\Omega$<br>\n",
    "Kobber, 2-punkt:<br>\n",
    "$U=0.033mV$, $I=1A$, gir $R=0.033m\\Omega$<br>\n",
    "Aliminium, 4-punkt:<br>\n",
    "$U=1.279mV$, $I=2A$, gir $R=0.6395m\\Omega$<br>\n",
    "Aliminium, 2-punkt: <br>\n",
    "$U=0.641mV$, $I=1A$, gir $R=0.641m\\Omega$\n",
    "\n",
    "5. Kobber: nei, akkurat samme fordi vi ikke har byttet ut materialet<br>\n",
    "Aliminium: nei, av samme grunn over\n",
    "\n",
    "7. Ja, ganske stor forskjell, omtrent 20ganger så stor. Det betyr at kobber leder mye bedre. \n",
    "***"
   ]
  },
  {
   "cell_type": "markdown",
   "id": "51047c28",
   "metadata": {},
   "source": [
    "## Før lab 5\n",
    "## oppgave 5.1.1\n",
    "Vi har\n",
    "\\begin{equation}\n",
    "    \\epsilon = -\\frac{d\\Phi}{dt}\n",
    "\\end{equation}\n",
    "og:\n",
    "\\begin{equation}\n",
    "    \\Phi=N AB cos(\\theta)\n",
    "\\end{equation}\n",
    "Hvor $\\theta=\\omega t$ <br>\n",
    "Vi kan derivere med hensyn på tid:\n",
    "\\begin{equation}\n",
    "    -\\frac{d\\Phi}{dt}=N AB \\omega sin(\\omega t)\n",
    "\\end{equation}\n",
    "    Da er $X=NAB\\omega$. Vi kan så løse med hensyn til $B$ og får, $B=\\frac{X}{NA\\omega}$."
   ]
  },
  {
   "cell_type": "markdown",
   "id": "553b8140",
   "metadata": {},
   "source": [
    "## På lab 5\n",
    "### Oppgave 5.2.1\n",
    "\n",
    "Vi hadde:\n",
    "\\begin{equation}\n",
    "    X=\\omega NA B\n",
    "\\end{equation}\n",
    "Vi fikk $X=4.6kg/s^3/A$, $A=30m^2$ og $\\omega=3.5s^{-1}$. Vår $A=NA$. Vi løser for $B$ og får $B=0.0438T$."
   ]
  },
  {
   "cell_type": "code",
   "execution_count": null,
   "id": "2137b2b8",
   "metadata": {},
   "outputs": [],
   "source": []
  }
 ],
 "metadata": {
  "kernelspec": {
   "display_name": "Python 3 (ipykernel)",
   "language": "python",
   "name": "python3"
  },
  "language_info": {
   "codemirror_mode": {
    "name": "ipython",
    "version": 3
   },
   "file_extension": ".py",
   "mimetype": "text/x-python",
   "name": "python",
   "nbconvert_exporter": "python",
   "pygments_lexer": "ipython3",
   "version": "3.8.11"
  }
 },
 "nbformat": 4,
 "nbformat_minor": 5
}
