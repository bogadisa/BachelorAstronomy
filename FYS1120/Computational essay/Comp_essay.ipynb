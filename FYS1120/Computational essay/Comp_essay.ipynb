{
 "cells": [
  {
   "cell_type": "markdown",
   "id": "da76a960",
   "metadata": {},
   "source": [
    "# Hvordan oppstår lyn rundt The Flash når han løper?\n",
    "\n",
    "## En plasma kule\n",
    "\n",
    "### Skrevet av Bjørn Magnus Hoddevik\n",
    "\n",
    "Superhelten The Flash har muligheten til å oppnå utrolige hastigheter når han løper. Når han løper raskt ser man noe som likner på lyn slå ut bakover. Jeg ønsker å se nærmere på dette fenomenet. Først ønsker jeg å se på forholdene som skal til for å skape dette fenomenet: Hvor raskt må han løpe? Hva skjer når han løper? Samtidig ønsker jeg også å se på hva som må til for at lynet beveger seg bakover. For å gjøre dette vil jeg først se på oppbygging av statisk elektrisitet. Det kan hende her at vi må bruke \"Speedforce\", altså magien som gjør at han kan bevege seg så raskt i utgangspunktet, for å kunne bygge opp nok potensial til å få elektrisk breakdown i luften bak The Flash. Vi vil studere hvorda det elektriske feltet og potensiale oppfører seg underveis ved å se på The Flash som kjernen av en plasma kule og tenke oss lufta lynet reiser igjennom som innholdet i plasmakulen og glasset rundt plasmakulen vil være slutten av lyn effekten.\n",
    "\n",
    "Vi blir derfor nødt til å bygge opp to modeller. En for å oppbygging av statisk elektrisistet og en annen for å modelere en plasma kule. Videre vil vi ta modellen av en enkel plasma kule og intodusere mer komplisert fysikk for at den skal oppføre seg nærmere slik vi ønsker.\n",
    "\n",
    "Vår forenklede modell av oppbygging av statisk elektrisitet er avhengig av noen få variabler. Først må vi se på hvilke materialer bakken og skoene er laget av. Dette lar oss ta eksempler fra virkeligheten og andvende den på vår problemstilling. Deretter beveger vi oss inn i det mer fiksjonelle. Det at The Flash løper så raskt som han gjør er fysisk umulig på mange måter, men en av de vi er interesert i er friksjonen mellom bakken og skoene hans. Derfor ignorerer vi de urealistiske friksjonskraftene som må til og ser bare på hva slags potensial de vil være med på å bygge opp.\n",
    "\n",
    "I vår modell av plasma ballen vil vi starte enkelt. Vi lager noen hundre elektroner som skal forestille de frigjorte elektronene som oppstår i luften under elektrisk breakdown. Først vil hvordan disse oppfører seg være uavhengig av hverandre og helt tilfeldig. Vi velger noen punkter på kjernen vår, altså The Flash, og hopper til det nærmeste elektronet og så videre til det nye nærmeste elektronet. Dette gjør vi til vi når kanten, altså glasset i plasma ballen vår. Underveis lagrer vi posisjonene til elektronene som ble brukt, slik at vi kan se på formen til lynet, men også slik at vi kan studere potensialet i ballen for hver iterasjon. Når vi gjør dette vil vi ignorere resten av elektronene i ballen. Når vi utvider denne modellen skal vi bestemme hvordan elektroene beveger seg mer, slik at vi får lyn som hopper bakover.\n",
    "\n",
    "Underveis vil jeg forklare hvorfor vi tar de antagelsene vi gjør og hvorfor jeg bygger opp modellene som jeg gjør. Vi starter med oppbygging av statisk elektrisitet."
   ]
  },
  {
   "cell_type": "markdown",
   "id": "a0ab2cdd",
   "metadata": {},
   "source": [
    "## Oppbygging av statisk elektrisitet\n",
    "\n",
    "Du har kanskje gått med ullsokker på et teppe før og så fått støt når du har tatt på håndtaket. Vi vil gjøre akkurat det samme, bare skalert opp noen tusen ganger. \n",
    "\n",
    "Når vi bygger opp statisk elektrisitet bygger vi opp en potensial forskjell som igjen setter opp et elektrisk felt. Når dette elektriske feltet er stort nok vil det forårsake elektrisk breakdown, som betyr at selv luften kan lede strøm. For luft er denne 30kV per mm, vi kaller dette den dielektriske styrken til gassen. En vanlig plasma ball vil inneholde en eller annen edel gass, som for eksempel Neon eller Argon. Dette er fordi de er dårlige på å absorbere elektroner enn luft og har derfor mye lavere dielektrisk styrke som igjen gjør det enklere å oppnå elektrisk breakdown. Dette har med at elektrisk breakdown oppstår når elektroner avfyrt er flere enn antallet absorbert av ioner i lufta. Så vi ønsker å se hva som skal til for å oppnå disse ulike verdiene.\n",
    "\n",
    "Vi må først se på den <b>triboelektriske serien</b>, en liste med materialer som beskriver hvor raskt materialet vil bygge opp en ladning i forhold til andre materialer på listen. Et materiale langt nede på listen vil altså lade seg opp negativt når den blir rørt av et materiale lengre oppe. Så om vi velger skoene til The Flash til å være et materiale langt nede på listen og bakken til å være et materiale langt oppe på listen vil vi enklere oppnå ønsket potensial.\n",
    "    \n",
    "Jeg bruker dette [skjemaet](https://www.alphalabinc.com/triboelectric-series/) og finner et materiele vi ønsker å bruke som bakke og så et for skoene. Butyl gummi står ut som et godt materiale for skoene, ettersom den leder strøm godt ifølge siden og den har svært lav affinity $Ea = -135nC/J$, som vi kaller evnen dens til å ta opp eller gi opp elektroner avhengig av verdien. Og for bakken velger vi en med høy affinity, nemlig Sorbothane, $Ea = +60nC/J$. Jeg klarte ikke å finne affinity-en til asfalt og valgte derfor bare Sorbothane fordi det var den med størst forskjell fra Butyl gummi som også var mulig å løpe på. Men hvordan bruker vi disse tallene? Vel vi ser på differansen på de. $\\Delta Ea = 60+135 = 195nC/J$ betyr at per joule generert fra friksjon vil $195nC$ verdt av ladning bli overført fra et materiale til den andre.\n",
    "\n",
    "Så da gjenstår det bare å finne hvor mye arbeid vi må utføre ved friksjon mellom skoene og bakken før vi har bygget opp nok ladning til å få elektrisk breakdown. For å gjøre det må vi finne ut to ting. Hvor stort potensial vi trenger for å sette opp et elektrisk felt stort nok, og finne en friksjonskonstant vi kan bruke til å finne et uttrykk for arbeid.\n",
    "\n",
    "Først ser vi på potensialet og elektrisk felt. På en vanlig taser krever det omtrent 50tusen volt for at elektronene skal kunne hoppe omtrent fem centimeter. Så vi bruker dette som et utgangspunkt. Om vi antar et lineært forhold mellom avstand og volt krevd vil det ta omtrent en million volt for å få en meter lange lyn fra The Flash. For et gjennomsnittlig lyn har vi 300 millioner volt, så vårt anslag for en million volt er nok et ganske konservativt forslag. Vi ønsker å sammenligne dette med ulike gasser. Vi har at Neon har 2% av dielektriske styrken til luft og Argon har 20%. Da får vi henholdvis 20 tusen volt og 200 tusen volt for Neon og Argon."
   ]
  },
  {
   "cell_type": "code",
   "execution_count": null,
   "id": "d26cb359",
   "metadata": {},
   "outputs": [],
   "source": []
  }
 ],
 "metadata": {
  "authors": [
   {
    "name": "Bjørn Magnus Hoddevik"
   }
  ],
  "kernelspec": {
   "display_name": "Python 3 (ipykernel)",
   "language": "python",
   "name": "python3"
  },
  "language_info": {
   "codemirror_mode": {
    "name": "ipython",
    "version": 3
   },
   "file_extension": ".py",
   "mimetype": "text/x-python",
   "name": "python",
   "nbconvert_exporter": "python",
   "pygments_lexer": "ipython3",
   "version": "3.8.11"
  },
  "title": "Hvordan oppstår det lyn når The Flash løper"
 },
 "nbformat": 4,
 "nbformat_minor": 5
}
