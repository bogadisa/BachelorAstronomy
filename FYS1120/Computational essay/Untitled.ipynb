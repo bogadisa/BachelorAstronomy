{
 "cells": [
  {
   "cell_type": "markdown",
   "id": "029193ce",
   "metadata": {},
   "source": [
    "# Hvordan oppstår lyn rundt The Flash når han løper\n",
    "## En plasma ball\n",
    "### Skrevet av Bjørn Magnus Hoddevik\n",
    "\n",
    "Nå The Flash løper kan man se lyn slå ut bakover. Jeg ønsker å se på hva som må skje her nærmere. Derfor skal jeg bygge opp en svært forenklet modell av The Flash når han løper. Denne modellen består i hovedsak av to deler: Hvordan han genererer potensial, og hvordan lynet oppfører seg. Fra før er det tydelig at det ikke er mye realistisk med hvordan The Flash løper, men jeg ønsker å se på deler av prossessen som kan være det. Hvordan må vi endre på materialene til bakken og kostymet hans? Hvordan må \"speedforce\", altså magien han bruker, endre på verden rundt han for at lyn skal oppstå?\n",
    "\n",
    "Den første delen av modellen hvor vi ser på generering av potensial vil fortelle oss hvor lange lynene kan være og hvordan vi må endre på lufta rundt han. Vi har at det tar omtrent <b>50 000 volt</b> for lyn til å oppstå mellom to punkter fem centimeter med luft imellom hverandre på en taser, vi bruker dette som et utgangspunkt til å bestemme hvor langt lynet kan gå.\n",
    "\n",
    "Vår andre delen av modellen blir en forenkling av lynet som slår ut av The Flash som en plasmaball. Vi starter enkelt med fritt bevegende elektroner som lynet hopper imellom og regner så potensialet med kun hensyn på de partiklene som ble brukt. Da skal vi få liknende potensial kart som for lyn mellom bakke og skyer. Deretter skal vi bruke et elektrisk felt til å bestemme mer hvordan elektronene beveger seg, slik at lynene går i definert bakover retning.\n",
    "\n",
    "---"
   ]
  },
  {
   "cell_type": "markdown",
   "id": "9db78980",
   "metadata": {},
   "source": []
  }
 ],
 "metadata": {
  "kernelspec": {
   "display_name": "Python 3 (ipykernel)",
   "language": "python",
   "name": "python3"
  },
  "language_info": {
   "codemirror_mode": {
    "name": "ipython",
    "version": 3
   },
   "file_extension": ".py",
   "mimetype": "text/x-python",
   "name": "python",
   "nbconvert_exporter": "python",
   "pygments_lexer": "ipython3",
   "version": "3.8.11"
  }
 },
 "nbformat": 4,
 "nbformat_minor": 5
}
