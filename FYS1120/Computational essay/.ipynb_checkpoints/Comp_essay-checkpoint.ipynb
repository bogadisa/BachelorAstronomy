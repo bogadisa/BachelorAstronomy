{
 "cells": [
  {
   "cell_type": "markdown",
   "id": "6480d1c5",
   "metadata": {},
   "source": [
    "# Hvordan oppstår lyn rundt The Flash når han løper?\n",
    "\n",
    "## En plasma kule\n"
   ]
  }
 ],
 "metadata": {
  "authors": [
   {
    "name": "Bjørn Magnus Hoddevik"
   }
  ],
  "kernelspec": {
   "display_name": "Python 3 (ipykernel)",
   "language": "python",
   "name": "python3"
  },
  "language_info": {
   "codemirror_mode": {
    "name": "ipython",
    "version": 3
   },
   "file_extension": ".py",
   "mimetype": "text/x-python",
   "name": "python",
   "nbconvert_exporter": "python",
   "pygments_lexer": "ipython3",
   "version": "3.8.11"
  },
  "title": "Hvordan oppstår det lyn når The Flash løper"
 },
 "nbformat": 4,
 "nbformat_minor": 5
}
