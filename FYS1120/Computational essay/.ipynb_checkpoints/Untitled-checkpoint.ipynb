{
 "cells": [
  {
   "cell_type": "markdown",
   "id": "4b2dd3aa",
   "metadata": {},
   "source": [
    "# Hvordan oppstår lyn rundt The Flash når han løper\n",
    "## En plasma ball\n",
    "### Skrevet av Bjørn Magnus Hoddevik\n",
    "\n"
   ]
  }
 ],
 "metadata": {
  "kernelspec": {
   "display_name": "Python 3 (ipykernel)",
   "language": "python",
   "name": "python3"
  },
  "language_info": {
   "codemirror_mode": {
    "name": "ipython",
    "version": 3
   },
   "file_extension": ".py",
   "mimetype": "text/x-python",
   "name": "python",
   "nbconvert_exporter": "python",
   "pygments_lexer": "ipython3",
   "version": "3.8.11"
  }
 },
 "nbformat": 4,
 "nbformat_minor": 5
}
