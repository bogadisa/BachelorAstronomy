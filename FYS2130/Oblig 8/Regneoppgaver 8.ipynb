{
 "cells": [
  {
   "cell_type": "markdown",
   "id": "e35059e8",
   "metadata": {},
   "source": [
    "# Oblig 8\n",
    "\n",
    "### Skrevet av Bjørn Magnus Hoddevik\n",
    "\n",
    "## Oppgave 1: Desibel\n",
    "\n",
    "Vi har uttrykket:\n",
    "\\begin{equation}\n",
    "    \\beta = (10dB) log_{10}\\left(\\frac{I}{I_0}\\right)\n",
    "\\end{equation}\n",
    "for å finne ut hvor mye lyden øker $\\beta$, hvor $I$ er den justerte frekvensen og $I_0$ er den originale. Om da $I=aI_0$ får vi $\\beta=(10dB)log_{10}(a)$, dersom vi vil øke lydstyrken med $X$ da, må $a=10^{\\frac{X}{(10dB)}}$."
   ]
  },
  {
   "cell_type": "markdown",
   "id": "a9f6969e",
   "metadata": {},
   "source": [
    "## Oppgave 2: Gitarstreng\n",
    "\n",
    "a) En bølge vil trenge en lengde $2L$ på å komme tilbake til utganspunktet etter å har reflektert. Det gir oss bølgelengden $\\lambda=2L$. Videre har vi sammenhengen $T=\\lambda/\\nu$. Siden vi snakker om frekvenser får vi heller $f=\\nu/\\lambda$. Vi løser for lengden og får uttrykket $L=\\nu/2f$. Vi bruker kunnskapen om at vi har en frekvens på $f_H=246.94Hz$ når $L=60cm$ til å finne at $\\nu=32102.2cm/s$. Så om vi setter alt dette inn i uttrykket vårt får vi at $L_{10}\\approx 36.5cm$."
   ]
  },
  {
   "cell_type": "markdown",
   "id": "78f09d9c",
   "metadata": {},
   "source": [
    "b) Å gå opp en halvtone tilsvarer å bevege seg et bånd opp. Dermed vil frekvensen til bond $n$ være gitt ved $f=f_H\\cdot k^{n}$, hvor $k=1.0595$, dersom vi tar . Setter vi dette inn i uttrykket vårt for lengden $L$får vi at $L_n=\\nu/(2f_H k^{n})$. Det gir oss at $L_6=45.95cm$ og $L_1=61.35cm$. Da er avstanden mellom det første båndet og ingen bånd være $\\Delta L=3.65cm$, men den gjenomsnittlige avstanden mellom bånd fra 1. bånd til 6.bånd være $\\Delta L=3.08cm$. Altså er avstandene mellom båndene være identiske. Vi kan finne et generelt uttryk for $\\Delta L$ ved hjelp av vårt uttrykk for $L$. Som da blir $\\Delta L=L_n-L_{n+1}=L_n(1-1/k)$, hvor $1-1/k\\approx0.561$."
   ]
  },
  {
   "cell_type": "markdown",
   "id": "4ef3f3e2",
   "metadata": {},
   "source": [
    "## Oppgave 3: Doppler\n",
    "\n",
    "I dette tilfellet er det kilden (politibilen) som beveger seg mot observatør (oss) med en effektiv hastighet på $v_k=50km/t$. Det betyr at vi må bruke formelen:\n",
    "\\begin{equation}\n",
    "    f_0=\\frac{v}{v-v_k}f\n",
    "\\end{equation}\n",
    "Hvor $v$ er lydhastigheten og $f=800Hz$. Det blir viktig å huske på riktige fortegn, hvor $v_k>0$ før politibilen kjører forbi og $v_k<0$ etter. Det gir oss $f_0\\approx834Hz$ før og $f_0\\approx768.6Hz$."
   ]
  }
 ],
 "metadata": {
  "kernelspec": {
   "display_name": "Python 3 (ipykernel)",
   "language": "python",
   "name": "python3"
  },
  "language_info": {
   "codemirror_mode": {
    "name": "ipython",
    "version": 3
   },
   "file_extension": ".py",
   "mimetype": "text/x-python",
   "name": "python",
   "nbconvert_exporter": "python",
   "pygments_lexer": "ipython3",
   "version": "3.8.11"
  }
 },
 "nbformat": 4,
 "nbformat_minor": 5
}
